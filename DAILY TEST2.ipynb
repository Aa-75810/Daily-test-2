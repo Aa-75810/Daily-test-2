{
 "cells": [
  {
   "cell_type": "markdown",
   "id": "defb38ee",
   "metadata": {},
   "source": [
    "1. Write a Python program to remove all consecutive duplicates of a given string."
   ]
  },
  {
   "cell_type": "code",
   "execution_count": 7,
   "id": "2ac110c9",
   "metadata": {},
   "outputs": [
    {
     "name": "stdout",
     "output_type": "stream",
     "text": [
      "ENTER YOUR DUPLICATE WORD: aabbbbcccd\n",
      "YOUR CORRECT WORD:  abcd\n"
     ]
    }
   ],
   "source": [
    "def dupl_fun(s):\n",
    "    new = \"\"\n",
    "    prev = \"\"\n",
    "    for i in s:\n",
    "        if len(new) == 0:\n",
    "            new += i\n",
    "            prev = i\n",
    "        if i == prev:\n",
    "            continue\n",
    "        else:\n",
    "            new += i\n",
    "            prev = i\n",
    "    return new\n",
    "s = str(input('ENTER YOUR DUPLICATE WORD: '))\n",
    "s = dupl_fun(s)\n",
    "print('YOUR CORRECT WORD: ',s)"
   ]
  },
  {
   "cell_type": "markdown",
   "id": "9e9019ce",
   "metadata": {},
   "source": [
    "2. Write a Python program find the common values that appear in two given strings.\n",
    "Original strings:Python3,Python2.7\n",
    "\n",
    "Intersection of two said String:Python"
   ]
  },
  {
   "cell_type": "markdown",
   "id": "ed641709",
   "metadata": {},
   "source": [
    "3. Write a Python program to remove unwanted characters from a given string.\n",
    "Original String : Pyth*^on Exercis^es\n",
    "\n",
    "After removing unwanted characters:Python Exercises\n",
    "\n",
    "Original String : A%^!B#*CD\n",
    "\n",
    "After removing unwanted characters:ABCD"
   ]
  },
  {
   "cell_type": "code",
   "execution_count": null,
   "id": "9ab14e02",
   "metadata": {},
   "outputs": [],
   "source": [
    "a = str(input('ENTER YOUR SENTENCE: '))\n",
    "\n",
    "punc = '''!()-[]{};:'\"\\,<>./?@#$%^&*_~'''\n",
    "b=\" \"\n",
    "\n",
    "for i in a:\n",
    "    if i not in punc:\n",
    "        b+=i\n",
    "         \n",
    "print(\"After removing unwanted characters : \" + b)"
   ]
  },
  {
   "cell_type": "markdown",
   "id": "64fa1b95",
   "metadata": {},
   "source": [
    "4. Write a Python program to split a given multiline string into a list of lines.\n",
    "Original string: “This\n",
    "\n",
    "is a\n",
    "\n",
    "multiline\n",
    "\n",
    "string.”\n",
    "\n",
    "Split the said multiline string into a list of lines: ['This', 'is a', 'multiline', 'string.', '']"
   ]
  },
  {
   "cell_type": "code",
   "execution_count": 37,
   "id": "10d5335b",
   "metadata": {},
   "outputs": [
    {
     "name": "stdout",
     "output_type": "stream",
     "text": [
      "['THIS', 'IS', 'MULTI', 'LINE', 'STRING.']\n"
     ]
    }
   ],
   "source": [
    "a= '''THIS \n",
    "IS \n",
    "MULTI LINE\n",
    "STRING.'''\n",
    "print(list(a.split()))\n"
   ]
  },
  {
   "cell_type": "markdown",
   "id": "a2f89fed",
   "metadata": {},
   "source": [
    "5. Write a Python program to find those numbers which are divisible by 7 and multiple of 5, between 1500 and 2700 (both included)."
   ]
  },
  {
   "cell_type": "code",
   "execution_count": 6,
   "id": "e40d43b0",
   "metadata": {},
   "outputs": [
    {
     "name": "stdout",
     "output_type": "stream",
     "text": [
      "1505  is divisible by 7 and 5.\n",
      "1540  is divisible by 7 and 5.\n",
      "1575  is divisible by 7 and 5.\n",
      "1610  is divisible by 7 and 5.\n",
      "1645  is divisible by 7 and 5.\n",
      "1680  is divisible by 7 and 5.\n",
      "1715  is divisible by 7 and 5.\n",
      "1750  is divisible by 7 and 5.\n",
      "1785  is divisible by 7 and 5.\n",
      "1820  is divisible by 7 and 5.\n",
      "1855  is divisible by 7 and 5.\n",
      "1890  is divisible by 7 and 5.\n",
      "1925  is divisible by 7 and 5.\n",
      "1960  is divisible by 7 and 5.\n",
      "1995  is divisible by 7 and 5.\n",
      "2030  is divisible by 7 and 5.\n",
      "2065  is divisible by 7 and 5.\n",
      "2100  is divisible by 7 and 5.\n",
      "2135  is divisible by 7 and 5.\n",
      "2170  is divisible by 7 and 5.\n",
      "2205  is divisible by 7 and 5.\n",
      "2240  is divisible by 7 and 5.\n",
      "2275  is divisible by 7 and 5.\n",
      "2310  is divisible by 7 and 5.\n",
      "2345  is divisible by 7 and 5.\n",
      "2380  is divisible by 7 and 5.\n",
      "2415  is divisible by 7 and 5.\n",
      "2450  is divisible by 7 and 5.\n",
      "2485  is divisible by 7 and 5.\n",
      "2520  is divisible by 7 and 5.\n",
      "2555  is divisible by 7 and 5.\n",
      "2590  is divisible by 7 and 5.\n",
      "2625  is divisible by 7 and 5.\n",
      "2660  is divisible by 7 and 5.\n",
      "2695  is divisible by 7 and 5.\n"
     ]
    }
   ],
   "source": [
    "a = 1500\n",
    "  \n",
    "b = 2700\n",
    "  \n",
    "i = a\n",
    "  \n",
    "while i <= b:\n",
    "    \n",
    "    if i % 7 == 0 and i % 5 == 0:\n",
    "        print(i, \" is divisible by 7 and 5.\")\n",
    "          \n",
    "    i += 1"
   ]
  },
  {
   "cell_type": "markdown",
   "id": "2c49c23d",
   "metadata": {},
   "source": [
    "6. Write a Python program to convert temperatures to and from celsius, fahrenheit."
   ]
  },
  {
   "cell_type": "code",
   "execution_count": null,
   "id": "8deb43d0",
   "metadata": {},
   "outputs": [],
   "source": [
    "a = float(input('ENTER YOUR CELSIUS VALUE IN DEGREE: '))\n",
    "print((a*1.8)+32)"
   ]
  },
  {
   "cell_type": "markdown",
   "id": "62d1dabb",
   "metadata": {},
   "source": [
    "7. Write a Python program to guess a number between 1 to 9. Note : User is prompted to enter a guess. If the user guesses wrong then the prompt appears again until the guess is correct, on successful guess, user will get a \"Well guessed!\" message, and the program will exit."
   ]
  },
  {
   "cell_type": "code",
   "execution_count": 8,
   "id": "f1cfe815",
   "metadata": {},
   "outputs": [
    {
     "name": "stdout",
     "output_type": "stream",
     "text": [
      "enter a number1\n",
      "Guess a number between 1 to 9 2\n",
      "Guess a number between 1 to 9 10\n",
      "Guess a number between 1 to 9 11\n",
      "Guess a number between 1 to 9 145\n",
      "Guess a number between 1 to 9 1525\n",
      "Guess a number between 1 to 9 14\n",
      "Guess a number between 1 to 9 11\n",
      "Guess a number between 1 to 9 9\n",
      "Guess a number between 1 to 9 9\n",
      "Guess a number between 1 to 9 0\n",
      "Guess a number between 1 to 9 54584\n",
      "Guess a number between 1 to 9 58948\n",
      "Guess a number between 1 to 9 1\n",
      "Well guessed!\n"
     ]
    }
   ],
   "source": [
    "import random\n",
    "\n",
    "a=int(input(\"enter a number\")) \n",
    "\n",
    "b= random.randint(1, 9)\n",
    "\n",
    "while a!= b:\n",
    "\n",
    "    b= int(input('Guess a number between 1 to 9 '))\n",
    "\n",
    "print('Well guessed!')"
   ]
  },
  {
   "cell_type": "markdown",
   "id": "09813b55",
   "metadata": {},
   "source": [
    "8. Write a Python program that prints all the numbers from 0 to 6 except 3 and 6."
   ]
  },
  {
   "cell_type": "code",
   "execution_count": 12,
   "id": "46ed33a2",
   "metadata": {},
   "outputs": [
    {
     "name": "stdout",
     "output_type": "stream",
     "text": [
      "0 1 2 4 5 \n",
      "\n"
     ]
    }
   ],
   "source": [
    "for i in range(6):\n",
    "    if (i == 3 or i==6):\n",
    "        continue\n",
    "    print(i,end=' ')\n",
    "print(\"\\n\")"
   ]
  },
  {
   "cell_type": "markdown",
   "id": "0033213a",
   "metadata": {},
   "source": [
    "9. Write a Python program which iterates the integers from 1 to 50. For multiples of three print \"Fizz\" instead of the number and for the multiples of five print \"Buzz\". For numbers which are multiples of both three and five print \"FizzBuzz\"."
   ]
  },
  {
   "cell_type": "code",
   "execution_count": null,
   "id": "8c3861ae",
   "metadata": {},
   "outputs": [],
   "source": [
    "a = float(input('ENTER THE NUMBER: '))\n",
    "if (a%3==0 and a%5==0):\n",
    "    print('FIZZBUZZ')\n",
    "elif i%3==0:\n",
    "    print('FIZZ')\n",
    "elif i%5==0:\n",
    "    print('BUZZ')"
   ]
  },
  {
   "cell_type": "markdown",
   "id": "dae4f9d0",
   "metadata": {},
   "source": [
    "10. Write a Python program that accepts a string and calculate the number of digits and letters."
   ]
  },
  {
   "cell_type": "code",
   "execution_count": 4,
   "id": "f3daee92",
   "metadata": {},
   "outputs": [
    {
     "name": "stdout",
     "output_type": "stream",
     "text": [
      "ENTER YOUR SENTENCE WITH DIGITS: general12324\n",
      "Number of Digit is 5\n",
      "Number of Alphabets is 7\n"
     ]
    }
   ],
   "source": [
    "alpha=0\n",
    "b = input('ENTER YOUR SENTENCE WITH DIGITS: ')\n",
    "for i in b:\n",
    "    if (i.isalpha()):\n",
    "        alpha+=1\n",
    "print(\"Number of Digit is\", len(b)-alpha)\n",
    "print(\"Number of Alphabets is\", alpha)"
   ]
  }
 ],
 "metadata": {
  "kernelspec": {
   "display_name": "Python 3 (ipykernel)",
   "language": "python",
   "name": "python3"
  },
  "language_info": {
   "codemirror_mode": {
    "name": "ipython",
    "version": 3
   },
   "file_extension": ".py",
   "mimetype": "text/x-python",
   "name": "python",
   "nbconvert_exporter": "python",
   "pygments_lexer": "ipython3",
   "version": "3.9.12"
  }
 },
 "nbformat": 4,
 "nbformat_minor": 5
}
